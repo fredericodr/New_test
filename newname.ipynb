{
 "cells": [
  {
   "cell_type": "markdown",
   "id": "677ca90b",
   "metadata": {},
   "source": [
    "The following list contains temperatures from Ironhack office during the summer. If the temperatures are above 25 at any point we should install a better AC in the room."
   ]
  },
  {
   "cell_type": "code",
   "execution_count": 1,
   "id": "19e24dad",
   "metadata": {},
   "outputs": [],
   "source": [
    "temp_hourly = [16, 18, 20, 21, 21, 22, 24, 26, 28, 30, 31, 32]"
   ]
  },
  {
   "cell_type": "code",
   "execution_count": 4,
   "id": "38469d16",
   "metadata": {},
   "outputs": [
    {
     "name": "stdout",
     "output_type": "stream",
     "text": [
      "26\n",
      "28\n",
      "30\n",
      "31\n",
      "32\n"
     ]
    }
   ],
   "source": [
    "for i in temp_hourly:\n",
    "    if i > 25:\n",
    "        print(i)"
   ]
  },
  {
   "cell_type": "code",
   "execution_count": null,
   "id": "8bda7f57",
   "metadata": {},
   "outputs": [],
   "source": []
  },
  {
   "cell_type": "code",
   "execution_count": 7,
   "id": "bfe56754",
   "metadata": {},
   "outputs": [],
   "source": [
    "temp_quarterly=[[18, 18, 19, 55], [20, 20, 21, 21], [22, 24, 24, 25], [26, 27, 26, 28], [28, 29, 32, 31], [30, 26, 25, 24]]"
   ]
  },
  {
   "cell_type": "code",
   "execution_count": 3,
   "id": "c0c33e4a",
   "metadata": {},
   "outputs": [],
   "source": [
    "new_list=[\"new\"]"
   ]
  },
  {
   "cell_type": "code",
   "execution_count": 5,
   "id": "4b29107b",
   "metadata": {},
   "outputs": [
    {
     "name": "stdout",
     "output_type": "stream",
     "text": [
      "26\n",
      "27\n",
      "26\n",
      "28\n",
      "28\n",
      "29\n",
      "32\n",
      "31\n",
      "30\n",
      "26\n"
     ]
    }
   ],
   "source": [
    "for list_temp in temp_quarterly:\n",
    "    for temp_q in list_temp:\n",
    "        if temp_q > 25:\n",
    "            print(temp_q)"
   ]
  },
  {
   "cell_type": "code",
   "execution_count": 8,
   "id": "63c66c3a",
   "metadata": {},
   "outputs": [
    {
     "name": "stdout",
     "output_type": "stream",
     "text": [
      "[26, 27, 26, 28]\n",
      "[28, 29, 32, 31]\n",
      "[30, 26, 25, 24]\n"
     ]
    }
   ],
   "source": [
    "for above25 in temp_quarterly:\n",
    "    if above25[0] > 25:\n",
    "        print (above25)"
   ]
  },
  {
   "cell_type": "markdown",
   "id": "d3e30313",
   "metadata": {},
   "source": [
    "# Save in a new list temperatures above 25ºC"
   ]
  },
  {
   "cell_type": "code",
   "execution_count": 9,
   "id": "27f9a8f2",
   "metadata": {},
   "outputs": [],
   "source": [
    "temp_hourly = [16, 18, 20, 21, 21, 22, 24, 26, 28, 30, 31, 32]"
   ]
  },
  {
   "cell_type": "code",
   "execution_count": 11,
   "id": "17303c4f",
   "metadata": {},
   "outputs": [],
   "source": [
    "temp_quarterly=[[18, 18, 19, 55], [20, 20, 21, 21], [22, 24, 24, 25], [26, 27, 26, 28], [28, 29, 32, 31], [30, 26, 25, 24]]"
   ]
  },
  {
   "cell_type": "code",
   "execution_count": 21,
   "id": "53f5466b",
   "metadata": {},
   "outputs": [
    {
     "name": "stdout",
     "output_type": "stream",
     "text": [
      "[55, 26, 27, 26, 28, 28, 29, 32, 31, 30, 26]\n"
     ]
    }
   ],
   "source": [
    "new_quarter= []\n",
    "\n",
    "for above25 in temp_quarterly:\n",
    "    for insideabove in above25:\n",
    "        if insideabove > 25:\n",
    "            new_quarter.append(insideabove)\n",
    "            \n",
    "print(new_quarter)"
   ]
  },
  {
   "cell_type": "markdown",
   "id": "1c2f98c6",
   "metadata": {},
   "source": [
    "#What's the difference between the first and last temperature"
   ]
  },
  {
   "cell_type": "code",
   "execution_count": 16,
   "id": "70f4e630",
   "metadata": {},
   "outputs": [
    {
     "data": {
      "text/plain": [
       "6"
      ]
     },
     "execution_count": 16,
     "metadata": {},
     "output_type": "execute_result"
    }
   ],
   "source": [
    "temp_above25[-1]-temp_above25[0]"
   ]
  },
  {
   "cell_type": "code",
   "execution_count": 17,
   "id": "5d176583",
   "metadata": {},
   "outputs": [
    {
     "data": {
      "text/plain": [
       "5"
      ]
     },
     "execution_count": 17,
     "metadata": {},
     "output_type": "execute_result"
    }
   ],
   "source": [
    "len(temp_above25)"
   ]
  },
  {
   "cell_type": "markdown",
   "id": "340fa757",
   "metadata": {},
   "source": [
    "#What's the difference between the max and min temperature"
   ]
  },
  {
   "cell_type": "code",
   "execution_count": 18,
   "id": "646f6a09",
   "metadata": {},
   "outputs": [
    {
     "data": {
      "text/plain": [
       "6"
      ]
     },
     "execution_count": 18,
     "metadata": {},
     "output_type": "execute_result"
    }
   ],
   "source": [
    "max(temp_above25)-min(temp_above25)"
   ]
  },
  {
   "cell_type": "code",
   "execution_count": 19,
   "id": "7e687e11",
   "metadata": {},
   "outputs": [
    {
     "data": {
      "text/plain": [
       "[30, 26, 25, 24]"
      ]
     },
     "execution_count": 19,
     "metadata": {},
     "output_type": "execute_result"
    }
   ],
   "source": [
    "max(temp_quarterly)"
   ]
  },
  {
   "cell_type": "code",
   "execution_count": 20,
   "id": "e1c3dbbd",
   "metadata": {},
   "outputs": [
    {
     "ename": "NameError",
     "evalue": "name 'mean' is not defined",
     "output_type": "error",
     "traceback": [
      "\u001b[1;31m---------------------------------------------------------------------------\u001b[0m",
      "\u001b[1;31mNameError\u001b[0m                                 Traceback (most recent call last)",
      "\u001b[1;32m<ipython-input-20-db4263dafaf5>\u001b[0m in \u001b[0;36m<module>\u001b[1;34m\u001b[0m\n\u001b[1;32m----> 1\u001b[1;33m \u001b[0mmean\u001b[0m\u001b[1;33m(\u001b[0m\u001b[0mtemp_above25\u001b[0m\u001b[1;33m)\u001b[0m\u001b[1;33m\u001b[0m\u001b[1;33m\u001b[0m\u001b[0m\n\u001b[0m",
      "\u001b[1;31mNameError\u001b[0m: name 'mean' is not defined"
     ]
    }
   ],
   "source": [
    "mean(temp_above25)"
   ]
  },
  {
   "cell_type": "code",
   "execution_count": 22,
   "id": "a59d40d6",
   "metadata": {},
   "outputs": [],
   "source": [
    "import numpy as np"
   ]
  },
  {
   "cell_type": "code",
   "execution_count": 23,
   "id": "d5397851",
   "metadata": {},
   "outputs": [
    {
     "data": {
      "text/plain": [
       "29.4"
      ]
     },
     "execution_count": 23,
     "metadata": {},
     "output_type": "execute_result"
    }
   ],
   "source": [
    "np.mean(temp_above25)"
   ]
  },
  {
   "cell_type": "code",
   "execution_count": 24,
   "id": "22d1eb9b",
   "metadata": {},
   "outputs": [
    {
     "data": {
      "text/plain": [
       "29.4"
      ]
     },
     "execution_count": 24,
     "metadata": {},
     "output_type": "execute_result"
    }
   ],
   "source": [
    "np.average(temp_above25)"
   ]
  },
  {
   "cell_type": "code",
   "execution_count": 26,
   "id": "1ce83d0e",
   "metadata": {},
   "outputs": [
    {
     "data": {
      "text/plain": [
       "2.1540659228538015"
      ]
     },
     "execution_count": 26,
     "metadata": {},
     "output_type": "execute_result"
    }
   ],
   "source": [
    "np.std(temp_above25)"
   ]
  },
  {
   "cell_type": "markdown",
   "id": "0fe827ce",
   "metadata": {},
   "source": [
    "#Repeat the task but do it with list comprehension"
   ]
  },
  {
   "cell_type": "code",
   "execution_count": 10,
   "id": "73c176d3",
   "metadata": {},
   "outputs": [
    {
     "name": "stdout",
     "output_type": "stream",
     "text": [
      "[26, 28, 30, 31, 32]\n"
     ]
    }
   ],
   "source": [
    "temp_above25 = [] #Where im going to save temps above 25\n",
    "\n",
    "for temp in temp_hourly:\n",
    "    if temp > 25:\n",
    "        temp_above25.append(temp)\n",
    "        \n",
    "print(temp_above25)"
   ]
  },
  {
   "cell_type": "code",
   "execution_count": 27,
   "id": "42568532",
   "metadata": {},
   "outputs": [],
   "source": [
    "temp_hourly = [16, 18, 20, 21, 21, 22, 24, 26, 28, 30, 31, 32]"
   ]
  },
  {
   "cell_type": "markdown",
   "id": "ea984c36",
   "metadata": {},
   "source": [
    "#List comprehension"
   ]
  },
  {
   "cell_type": "code",
   "execution_count": 32,
   "id": "5afc3803",
   "metadata": {},
   "outputs": [
    {
     "data": {
      "text/plain": [
       "[[1, 1, 1, 1, 1],\n",
       " [1, 1, 1, 1, 1],\n",
       " [1, 1, 1, 1, 1],\n",
       " [1, 1, 1, 1, 1],\n",
       " [1, 1, 1, 1, 1]]"
      ]
     },
     "execution_count": 32,
     "metadata": {},
     "output_type": "execute_result"
    }
   ],
   "source": [
    "[___ for temp in temp_hourly if temp > 25]"
   ]
  },
  {
   "cell_type": "code",
   "execution_count": 38,
   "id": "cb90d99c",
   "metadata": {},
   "outputs": [
    {
     "name": "stdout",
     "output_type": "stream",
     "text": [
      "[[18, 18, 19, 55], [20, 20, 21, 21], [22, 24, 24, 25], [26, 27, 26, 28], [28, 29, 32, 31], [30, 26, 25, 24]]\n"
     ]
    }
   ],
   "source": [
    "print(temp_quarterly)"
   ]
  },
  {
   "cell_type": "code",
   "execution_count": 40,
   "id": "d5cf539f",
   "metadata": {},
   "outputs": [
    {
     "name": "stdout",
     "output_type": "stream",
     "text": [
      "[18, 18, 19, 55, 20, 20, 21, 21, 22, 24, 24, 25, 26, 27, 26, 28, 28, 29, 32, 31, 30, 26, 25, 24]\n"
     ]
    }
   ],
   "source": [
    "print([temp for list_temp in temp_quarterly for temp in list_temp])"
   ]
  },
  {
   "cell_type": "code",
   "execution_count": null,
   "id": "872f912c",
   "metadata": {},
   "outputs": [],
   "source": []
  }
 ],
 "metadata": {
  "kernelspec": {
   "display_name": "Python 3",
   "language": "python",
   "name": "python3"
  },
  "language_info": {
   "codemirror_mode": {
    "name": "ipython",
    "version": 3
   },
   "file_extension": ".py",
   "mimetype": "text/x-python",
   "name": "python",
   "nbconvert_exporter": "python",
   "pygments_lexer": "ipython3",
   "version": "3.9.0"
  }
 },
 "nbformat": 4,
 "nbformat_minor": 5
}
