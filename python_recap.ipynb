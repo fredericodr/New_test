{
 "cells": [
  {
   "cell_type": "markdown",
   "id": "677ca90b",
   "metadata": {},
   "source": [
    "The following list contains temperatures from Ironhack office during the summer. If the temperatures are above 25 at any point we should install a better AC in the room."
   ]
  },
  {
   "cell_type": "code",
   "execution_count": 2,
   "id": "19e24dad",
   "metadata": {},
   "outputs": [],
   "source": [
    "temp_hourly = [16, 18, 20, 21, 21, 22, 24, 26, 28, 30, 31, 32]"
   ]
  },
  {
   "cell_type": "code",
   "execution_count": 11,
   "id": "38469d16",
   "metadata": {},
   "outputs": [
    {
     "name": "stdout",
     "output_type": "stream",
     "text": [
      "[26, 28, 30, 31, 32]\n"
     ]
    }
   ],
   "source": [
    "temp_list_1 =[]\n",
    "for item in temp_hourly:\n",
    "    if item > 25:\n",
    "        temp_list_1.append(item)\n",
    "print(temp_list_1)"
   ]
  },
  {
   "cell_type": "code",
   "execution_count": 4,
   "id": "bfe56754",
   "metadata": {},
   "outputs": [],
   "source": [
    "temp_quarterly=[[18, 18, 19, 19], [20, 20, 21, 21], [22, 24, 24, 25], [26, 27, 26, 28], [28, 29, 32, 31], [30, 26, 25, 24]]"
   ]
  },
  {
   "cell_type": "code",
   "execution_count": 12,
   "id": "8bda7f57",
   "metadata": {},
   "outputs": [
    {
     "name": "stdout",
     "output_type": "stream",
     "text": [
      "[26, 27, 26, 28, 28, 29, 32, 31, 30, 26]\n"
     ]
    }
   ],
   "source": [
    "temp_list_2 = []\n",
    "for temp_sub_list_1 in temp_quarterly:\n",
    "    for temp in temp_sub_list_1:\n",
    "        if temp > 25:\n",
    "            temp_list_2.append(temp)\n",
    "print(temp_list_2)"
   ]
  },
  {
   "cell_type": "code",
   "execution_count": 15,
   "id": "556477ef",
   "metadata": {},
   "outputs": [
    {
     "name": "stdout",
     "output_type": "stream",
     "text": [
      "6\n"
     ]
    }
   ],
   "source": [
    "dif = temp_list_1[-1] - temp_list_1[0]\n",
    "print(dif)"
   ]
  },
  {
   "cell_type": "code",
   "execution_count": 16,
   "id": "d8f43ede",
   "metadata": {},
   "outputs": [
    {
     "name": "stdout",
     "output_type": "stream",
     "text": [
      "0\n"
     ]
    }
   ],
   "source": [
    "dif = temp_list_2[-1] - temp_list_2[0]\n",
    "print(dif)"
   ]
  },
  {
   "cell_type": "code",
   "execution_count": 19,
   "id": "31416f98",
   "metadata": {},
   "outputs": [
    {
     "name": "stdout",
     "output_type": "stream",
     "text": [
      "6\n"
     ]
    }
   ],
   "source": [
    "dif1 = max(temp_list_1) - min(temp_list_1)\n",
    "print(dif1)"
   ]
  },
  {
   "cell_type": "code",
   "execution_count": 20,
   "id": "03cfadb1",
   "metadata": {},
   "outputs": [
    {
     "name": "stdout",
     "output_type": "stream",
     "text": [
      "6\n"
     ]
    }
   ],
   "source": [
    "dif2 = max(temp_list_2) - min(temp_list_2)\n",
    "print(dif2)"
   ]
  },
  {
   "cell_type": "code",
   "execution_count": 21,
   "id": "fd1b7e3e",
   "metadata": {},
   "outputs": [],
   "source": [
    "import numpy as np"
   ]
  },
  {
   "cell_type": "code",
   "execution_count": 22,
   "id": "7cfbcdd0",
   "metadata": {},
   "outputs": [
    {
     "data": {
      "text/plain": [
       "28.3"
      ]
     },
     "execution_count": 22,
     "metadata": {},
     "output_type": "execute_result"
    }
   ],
   "source": [
    "np.mean(temp_list_2)"
   ]
  },
  {
   "cell_type": "code",
   "execution_count": 23,
   "id": "b12012e3",
   "metadata": {},
   "outputs": [],
   "source": [
    "temp_hourly = [16, 18, 20, 21, 21, 22, 24, 26, 28, 30, 31, 32]\n",
    "temp_quarterly=[[18, 18, 19, 19], [20, 20, 21, 21], [22, 24, 24, 25], [26, 27, 26, 28], [28, 29, 32, 31], [30, 26, 25, 24]]"
   ]
  },
  {
   "cell_type": "code",
   "execution_count": 24,
   "id": "b85362a7",
   "metadata": {},
   "outputs": [
    {
     "data": {
      "text/plain": [
       "[26, 28, 30, 31, 32]"
      ]
     },
     "execution_count": 24,
     "metadata": {},
     "output_type": "execute_result"
    }
   ],
   "source": [
    "[temp for temp in temp_hourly if temp >25]"
   ]
  },
  {
   "cell_type": "code",
   "execution_count": 25,
   "id": "ab6d62a0",
   "metadata": {},
   "outputs": [
    {
     "data": {
      "text/plain": [
       "[26, 27, 26, 28, 28, 29, 32, 31, 30, 26]"
      ]
     },
     "execution_count": 25,
     "metadata": {},
     "output_type": "execute_result"
    }
   ],
   "source": [
    "[temp1 for temp in temp_quarterly for temp1 in temp if temp1 >25]"
   ]
  },
  {
   "cell_type": "code",
   "execution_count": null,
   "id": "31920ec5",
   "metadata": {},
   "outputs": [],
   "source": []
  }
 ],
 "metadata": {
  "kernelspec": {
   "display_name": "Python 3 (ipykernel)",
   "language": "python",
   "name": "python3"
  },
  "language_info": {
   "codemirror_mode": {
    "name": "ipython",
    "version": 3
   },
   "file_extension": ".py",
   "mimetype": "text/x-python",
   "name": "python",
   "nbconvert_exporter": "python",
   "pygments_lexer": "ipython3",
   "version": "3.9.7"
  }
 },
 "nbformat": 4,
 "nbformat_minor": 5
}
