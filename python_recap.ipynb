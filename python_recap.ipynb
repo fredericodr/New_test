{
 "cells": [
  {
   "cell_type": "markdown",
   "id": "677ca90b",
   "metadata": {},
   "source": [
    "The following list contains temperatures from Ironhack office during the summer. If the temperatures are above 25 at any point we should install a better AC in the room."
   ]
  },
  {
   "cell_type": "code",
   "execution_count": 16,
   "id": "19e24dad",
   "metadata": {},
   "outputs": [],
   "source": [
    "temp_hourly = [16, 18, 20, 21, 21, 22, 24, 26, 28, 30, 31, 32]"
   ]
  },
  {
   "cell_type": "code",
   "execution_count": 6,
   "id": "38469d16",
   "metadata": {},
   "outputs": [
    {
     "name": "stdout",
     "output_type": "stream",
     "text": [
      "26\n",
      "28\n",
      "30\n",
      "31\n",
      "32\n"
     ]
    }
   ],
   "source": [
    "for temp in temp_hourly:\n",
    "    if temp > 25:\n",
    "        print(temp)"
   ]
  },
  {
   "cell_type": "code",
   "execution_count": 17,
   "id": "9c1d6848",
   "metadata": {},
   "outputs": [
    {
     "name": "stdout",
     "output_type": "stream",
     "text": [
      "[26, 28, 30, 31, 32]\n"
     ]
    }
   ],
   "source": [
    "y = [] #lista onde vamos guardar as temperaturas hourly superiores a 25 graus\n",
    "for temp in temp_hourly:\n",
    "    if temp > 25:\n",
    "        y.append(temp)\n",
    "print(y)"
   ]
  },
  {
   "cell_type": "code",
   "execution_count": 33,
   "id": "3ecaf025",
   "metadata": {},
   "outputs": [
    {
     "name": "stdout",
     "output_type": "stream",
     "text": [
      "6\n"
     ]
    }
   ],
   "source": [
    "#diference between 1st and last temperature hourly\n",
    "print(y[0]-y[-1]) "
   ]
  },
  {
   "cell_type": "code",
   "execution_count": 32,
   "id": "8c35e264",
   "metadata": {},
   "outputs": [
    {
     "name": "stdout",
     "output_type": "stream",
     "text": [
      "6\n"
     ]
    }
   ],
   "source": [
    "print(max(y)-min(y))# dif entre max e min da temp hourly"
   ]
  },
  {
   "cell_type": "code",
   "execution_count": 21,
   "id": "bfe56754",
   "metadata": {},
   "outputs": [],
   "source": [
    "#second exercise\n",
    "temp_quarterly=[[18, 18, 19, 19], [20, 20, 21, 21], [22, 24, 24, 25], [26, 27, 26, 28], [28, 29, 32, 31], [30, 26, 25, 24]]"
   ]
  },
  {
   "cell_type": "code",
   "execution_count": 23,
   "id": "8bda7f57",
   "metadata": {},
   "outputs": [
    {
     "name": "stdout",
     "output_type": "stream",
     "text": [
      "26\n",
      "27\n",
      "26\n",
      "28\n",
      "28\n",
      "29\n",
      "32\n",
      "31\n",
      "30\n",
      "26\n"
     ]
    }
   ],
   "source": [
    "for list_temp in temp_quarterly:#entra no elemento de uma lista \n",
    "    for tempq in list_temp:#entra no elemento das outras listas\n",
    "        if tempq > 25:\n",
    "            print (tempq)"
   ]
  },
  {
   "cell_type": "code",
   "execution_count": 11,
   "id": "cd2d8988",
   "metadata": {},
   "outputs": [
    {
     "name": "stdout",
     "output_type": "stream",
     "text": [
      "[26, 27, 26, 28]\n",
      "[28, 29, 32, 31]\n",
      "[30, 26, 25, 24]\n"
     ]
    }
   ],
   "source": [
    "#esta incompleto solução errada temos sempre que fazer 2 for loops para iterar as 2 listas\n",
    "for above25 in temp_quarterly:\n",
    "    if above25[0] >25:\n",
    "        print(above25)\n",
    "    "
   ]
  },
  {
   "cell_type": "code",
   "execution_count": 24,
   "id": "4567f3b6",
   "metadata": {},
   "outputs": [
    {
     "name": "stdout",
     "output_type": "stream",
     "text": [
      "[26, 27, 26, 28, 28, 29, 32, 31, 30, 26]\n"
     ]
    }
   ],
   "source": [
    "x = [] #lista onde vamos guardar as temperaturas quarterly superiores a 25 graus\n",
    "for list_temp in temp_quarterly:#entra no elemento de uma lista \n",
    "    for tempq in list_temp:#entra no elemento das outras listas\n",
    "        if tempq > 25:\n",
    "            x.append(tempq)\n",
    "\n",
    "print(x)"
   ]
  },
  {
   "cell_type": "code",
   "execution_count": 34,
   "id": "67fea1e0",
   "metadata": {},
   "outputs": [
    {
     "name": "stdout",
     "output_type": "stream",
     "text": [
      "0\n"
     ]
    }
   ],
   "source": [
    "print(x[0]-x[-1]) #dif entre 1 e ultima temp quarterly\n"
   ]
  },
  {
   "cell_type": "code",
   "execution_count": 31,
   "id": "8dabb87a",
   "metadata": {},
   "outputs": [
    {
     "name": "stdout",
     "output_type": "stream",
     "text": [
      "6\n"
     ]
    }
   ],
   "source": [
    "print(max(x)-min(x))# dif entre max e min da temp quarterly  "
   ]
  },
  {
   "cell_type": "code",
   "execution_count": 36,
   "id": "eea303a3",
   "metadata": {},
   "outputs": [],
   "source": [
    "#vamos usar biblioteca numpy para tratar lista como array \n",
    "import numpy as np"
   ]
  },
  {
   "cell_type": "code",
   "execution_count": 37,
   "id": "17cbb125",
   "metadata": {},
   "outputs": [
    {
     "data": {
      "text/plain": [
       "28.3"
      ]
     },
     "execution_count": 37,
     "metadata": {},
     "output_type": "execute_result"
    }
   ],
   "source": [
    "np.mean(x)"
   ]
  },
  {
   "cell_type": "code",
   "execution_count": 38,
   "id": "78437eab",
   "metadata": {},
   "outputs": [
    {
     "data": {
      "text/plain": [
       "28.3"
      ]
     },
     "execution_count": 38,
     "metadata": {},
     "output_type": "execute_result"
    }
   ],
   "source": [
    "np.average(x)"
   ]
  },
  {
   "cell_type": "code",
   "execution_count": 39,
   "id": "ae669399",
   "metadata": {},
   "outputs": [
    {
     "data": {
      "text/plain": [
       "2.0518284528683193"
      ]
     },
     "execution_count": 39,
     "metadata": {},
     "output_type": "execute_result"
    }
   ],
   "source": [
    "np.std(x)"
   ]
  },
  {
   "cell_type": "code",
   "execution_count": 40,
   "id": "23265f06",
   "metadata": {},
   "outputs": [
    {
     "data": {
      "text/plain": [
       "[26, 28, 30, 31, 32]"
      ]
     },
     "execution_count": 40,
     "metadata": {},
     "output_type": "execute_result"
    }
   ],
   "source": [
    "#Repeat the task but do it with the list compreension\n",
    "\n",
    "temp_hourly = [16, 18, 20, 21, 21, 22, 24, 26, 28, 30, 31, 32]\n",
    "\n",
    "[temp for temp in temp_hourly if temp> 25]"
   ]
  },
  {
   "cell_type": "code",
   "execution_count": 47,
   "id": "f6c97697",
   "metadata": {},
   "outputs": [
    {
     "data": {
      "text/plain": [
       "[26, 27, 26, 28, 28, 29, 32, 31, 30, 26]"
      ]
     },
     "execution_count": 47,
     "metadata": {},
     "output_type": "execute_result"
    }
   ],
   "source": [
    "temp_quarterly=[[18, 18, 19, 19], [20, 20, 21, 21], [22, 24, 24, 25], [26, 27, 26, 28], [28, 29, 32, 31], [30, 26, 25, 24]]\n",
    "\n",
    "[tempq for list_temp in temp_quarterly for tempq in list_temp if tempq> 25 ] \n",
    "# em list compreension definimos primeira a variavel tempq e a ordem é inversa do loop vamos da ultima lista para a lista geral  "
   ]
  },
  {
   "cell_type": "code",
   "execution_count": 49,
   "id": "dd1bc1ed",
   "metadata": {},
   "outputs": [
    {
     "name": "stdout",
     "output_type": "stream",
     "text": [
      "[18, 18, 19, 19, 20, 20, 21, 21, 22, 24, 24, 25, 26, 27, 26, 28, 28, 29, 32, 31, 30, 26, 25, 24]\n"
     ]
    }
   ],
   "source": [
    "print([tempL for list_temp in temp_quarterly for tempL in list_temp]) #transformamos tudo numa só lista "
   ]
  },
  {
   "cell_type": "code",
   "execution_count": null,
   "id": "64211748",
   "metadata": {},
   "outputs": [],
   "source": []
  }
 ],
 "metadata": {
  "kernelspec": {
   "display_name": "Python 3 (ipykernel)",
   "language": "python",
   "name": "python3"
  },
  "language_info": {
   "codemirror_mode": {
    "name": "ipython",
    "version": 3
   },
   "file_extension": ".py",
   "mimetype": "text/x-python",
   "name": "python",
   "nbconvert_exporter": "python",
   "pygments_lexer": "ipython3",
   "version": "3.9.7"
  }
 },
 "nbformat": 4,
 "nbformat_minor": 5
}
