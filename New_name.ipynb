{
 "cells": [
  {
   "cell_type": "markdown",
   "id": "677ca90b",
   "metadata": {},
   "source": [
    "The following list contains temperatures from Ironhack office during the summer. If the temperatures are above 25 at any point we should install a better AC in the room."
   ]
  },
  {
   "cell_type": "code",
   "execution_count": 1,
   "id": "19e24dad",
   "metadata": {},
   "outputs": [],
   "source": [
    "temp_hourly = [16, 18, 20, 21, 21, 22, 24, 26, 28, 30, 31, 32]"
   ]
  },
  {
   "cell_type": "code",
   "execution_count": 8,
   "id": "38469d16",
   "metadata": {},
   "outputs": [
    {
     "name": "stdout",
     "output_type": "stream",
     "text": [
      "26\n",
      "28\n",
      "30\n",
      "31\n",
      "32\n"
     ]
    }
   ],
   "source": [
    "for i in temp_hourly:\n",
    "    if i > 25:\n",
    "        print (i)\n",
    "    "
   ]
  },
  {
   "cell_type": "code",
   "execution_count": 20,
   "id": "4fc32d76",
   "metadata": {},
   "outputs": [
    {
     "name": "stdout",
     "output_type": "stream",
     "text": [
      "[26, 28, 30, 31, 32]\n"
     ]
    }
   ],
   "source": [
    "new_hourly = []\n",
    "\n",
    "for item in temp_hourly:\n",
    "    if item > 25:\n",
    "        new_hourly.append(item)\n",
    "print (new_hourly)"
   ]
  },
  {
   "cell_type": "code",
   "execution_count": 28,
   "id": "f05b432e",
   "metadata": {},
   "outputs": [
    {
     "data": {
      "text/plain": [
       "6"
      ]
     },
     "execution_count": 28,
     "metadata": {},
     "output_type": "execute_result"
    }
   ],
   "source": [
    "new_hourly [-1] - new_hourly[0]"
   ]
  },
  {
   "cell_type": "code",
   "execution_count": 29,
   "id": "9aa50330",
   "metadata": {},
   "outputs": [
    {
     "data": {
      "text/plain": [
       "6"
      ]
     },
     "execution_count": 29,
     "metadata": {},
     "output_type": "execute_result"
    }
   ],
   "source": [
    "max(new_hourly) - min(new_hourly)"
   ]
  },
  {
   "cell_type": "code",
   "execution_count": 9,
   "id": "bfe56754",
   "metadata": {},
   "outputs": [],
   "source": [
    "temp_quarterly=[[18, 18, 19, 19], [20, 20, 21, 21], [22, 24, 24, 25], [26, 27, 26, 28], [28, 29, 32, 31], [30, 26, 25, 24]]"
   ]
  },
  {
   "cell_type": "code",
   "execution_count": 18,
   "id": "8bda7f57",
   "metadata": {},
   "outputs": [
    {
     "name": "stdout",
     "output_type": "stream",
     "text": [
      "26\n",
      "27\n",
      "26\n",
      "28\n",
      "28\n",
      "29\n",
      "32\n",
      "31\n",
      "30\n",
      "26\n"
     ]
    }
   ],
   "source": [
    "for above_25 in temp_quarterly:\n",
    "    for inside_above in above_25:\n",
    "        if inside_above > 25:\n",
    "            print (inside_above)\n",
    "        "
   ]
  },
  {
   "cell_type": "code",
   "execution_count": 27,
   "id": "0f002413",
   "metadata": {},
   "outputs": [
    {
     "name": "stdout",
     "output_type": "stream",
     "text": [
      "[26, 27, 26, 28, 28, 29, 32, 31, 30, 26]\n"
     ]
    }
   ],
   "source": [
    "new_quarterly = []\n",
    "for above_25 in temp_quarterly:\n",
    "    for inside_above in above_25:\n",
    "        if inside_above > 25:\n",
    "            new_quarterly.append(inside_above)\n",
    "print (new_quarterly)"
   ]
  },
  {
   "cell_type": "code",
   "execution_count": 31,
   "id": "d1f3090f",
   "metadata": {},
   "outputs": [
    {
     "data": {
      "text/plain": [
       "0"
      ]
     },
     "execution_count": 31,
     "metadata": {},
     "output_type": "execute_result"
    }
   ],
   "source": [
    "new_quarterly[-1] - new_quarterly[0]"
   ]
  },
  {
   "cell_type": "code",
   "execution_count": 32,
   "id": "b032b50c",
   "metadata": {},
   "outputs": [
    {
     "data": {
      "text/plain": [
       "6"
      ]
     },
     "execution_count": 32,
     "metadata": {},
     "output_type": "execute_result"
    }
   ],
   "source": [
    "max(new_quarterly) - min(new_quarterly)"
   ]
  },
  {
   "cell_type": "code",
   "execution_count": 33,
   "id": "b386b4d6",
   "metadata": {},
   "outputs": [],
   "source": [
    "import numpy as np"
   ]
  },
  {
   "cell_type": "code",
   "execution_count": 34,
   "id": "cd8e0cb1",
   "metadata": {},
   "outputs": [
    {
     "data": {
      "text/plain": [
       "29.4"
      ]
     },
     "execution_count": 34,
     "metadata": {},
     "output_type": "execute_result"
    }
   ],
   "source": [
    "np.mean (new_hourly)"
   ]
  },
  {
   "cell_type": "code",
   "execution_count": 35,
   "id": "10ee38bb",
   "metadata": {},
   "outputs": [
    {
     "data": {
      "text/plain": [
       "29.4"
      ]
     },
     "execution_count": 35,
     "metadata": {},
     "output_type": "execute_result"
    }
   ],
   "source": [
    "np.average(new_hourly)"
   ]
  },
  {
   "cell_type": "code",
   "execution_count": 36,
   "id": "2c4d26e7",
   "metadata": {},
   "outputs": [],
   "source": [
    "temp_quarterly=[[18, 18, 19, 19], [20, 20, 21, 21], [22, 24, 24, 25], [26, 27, 26, 28], [28, 29, 32, 31], [30, 26, 25, 24]]"
   ]
  },
  {
   "cell_type": "code",
   "execution_count": 44,
   "id": "f0dac39b",
   "metadata": {},
   "outputs": [
    {
     "data": {
      "text/plain": [
       "[26, 27, 26, 28, 28, 29, 32, 31, 30, 26]"
      ]
     },
     "execution_count": 44,
     "metadata": {},
     "output_type": "execute_result"
    }
   ],
   "source": [
    "[inside_above for temp in temp_quarterly for inside_above in temp if inside_above > 25]"
   ]
  },
  {
   "cell_type": "code",
   "execution_count": null,
   "id": "3262135a",
   "metadata": {},
   "outputs": [],
   "source": []
  }
 ],
 "metadata": {
  "kernelspec": {
   "display_name": "Python 3 (ipykernel)",
   "language": "python",
   "name": "python3"
  },
  "language_info": {
   "codemirror_mode": {
    "name": "ipython",
    "version": 3
   },
   "file_extension": ".py",
   "mimetype": "text/x-python",
   "name": "python",
   "nbconvert_exporter": "python",
   "pygments_lexer": "ipython3",
   "version": "3.9.7"
  }
 },
 "nbformat": 4,
 "nbformat_minor": 5
}
